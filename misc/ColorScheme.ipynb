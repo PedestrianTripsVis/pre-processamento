{
 "cells": [
  {
   "cell_type": "code",
   "execution_count": 3,
   "metadata": {},
   "outputs": [
    {
     "name": "stdout",
     "output_type": "stream",
     "text": [
      "[[1.0, 1.0, 0.8], [1.0, 0.9294117647058824, 0.6274509803921569], [0.996078431372549, 0.8509803921568627, 0.4627450980392157], [0.996078431372549, 0.6980392156862745, 0.2980392156862745], [0.9921568627450981, 0.5529411764705883, 0.23529411764705882], [0.9882352941176471, 0.3058823529411765, 0.16470588235294117], [0.8901960784313725, 0.10196078431372549, 0.10980392156862745], [0.7411764705882353, 0.0, 0.14901960784313725], [0.5019607843137255, 0.0, 0.14901960784313725]]\n"
     ]
    }
   ],
   "source": [
    "YlOrRd_9 = [(255, 255, 204), (255, 237, 160), (254, 217, 118), (254, 178, 76), (253, 141, 60), (252, 78, 42), (227, 26, 28), (189, 0, 38), (128, 0, 38)]\n",
    "\n",
    "for i, rgb in enumerate(YlOrRd_9):\n",
    "    r, g, b = rgb\n",
    "    YlOrRd_9[i] = [r/255.0, g/255.0, b/255.0]\n",
    "\n",
    "print(YlOrRd_9)"
   ]
  }
 ],
 "metadata": {
  "interpreter": {
   "hash": "b15e90b22920f3616b90081869e634aa2ae7d27bceee100f7f21224d85cbc821"
  },
  "kernelspec": {
   "display_name": "Python 3.9.7 ('env': venv)",
   "language": "python",
   "name": "python3"
  },
  "language_info": {
   "codemirror_mode": {
    "name": "ipython",
    "version": 3
   },
   "file_extension": ".py",
   "mimetype": "text/x-python",
   "name": "python",
   "nbconvert_exporter": "python",
   "pygments_lexer": "ipython3",
   "version": "3.9.7"
  },
  "orig_nbformat": 4
 },
 "nbformat": 4,
 "nbformat_minor": 2
}
