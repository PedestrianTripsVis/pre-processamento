{
 "cells": [
  {
   "cell_type": "markdown",
   "metadata": {},
   "source": [
    "# Origin Destination Dataset\n",
    "\n",
    "This notebook presents an analysis of the origin destination datasets provided by the Sao Paulo government. The datasets contain information about how people move through the city in a tipycal workday, whether to go for work, school or to chill. Also, there are some socio-economic data regarding family income, gender, age and other information that we use to analyze the behaviour of people's trajectories.\n",
    "\n",
    "## Datasets\n",
    "\n",
    "We will be using the datasets from the Origin Destination census from 2017.\n",
    "\n",
    "## Variables of Interest\n",
    "\n",
    "The dataset contain dozens of variables, we focus our analysis in a small group to gather insights from the behaviour of the population. Here we give a brief description of those. Furthermore we start with a simple analysis on each one until we get to deeper insights about how people move in a typical day of the week.\n",
    "\n",
    " - **ZONA_O**: The origin;\n",
    " - **ZONA_D**: The destination zone;\n",
    " - **MODO_PRIN**: Main transport mode used in the trip;\n",
    " - **COORD_X_ORIGIN**: Latitude in the origin;\n",
    " - **COORD_Y_ORIGIN**: Longitude in the origin;\n",
    " - **COORD_X_DESTINATION**: Latitude in the destination;\n",
    " - **COORD_Y_DESTINATION**: Longitude in the destination;\n",
    " - **FEVIAG**: Expansion factor of the trajectory that represents how many more trips like that may exist.\n",
    " - **CD_ENTRE/ID_VIAG**: Binary flag to register if the interviewed person declared a trip. We want discard registers without trips.\n",
    " \n",
    " \n",
    "## Spatial aggregation of the data\n",
    "\n",
    "Data aggregation is a common technique to reduce the amount of information to be processed or visualized.\n",
    "When we talk about georeferenced movement data in a city we can aggregate trips from point based locations to region based locations to work with the spatial properties in a higher order of scale.\n",
    "This kind of aggregation is thus limited to the granularity of the collected data. In our case, the dataset from the 2017 record specific locations that maps to neighborhood levels. This allow us to summarize this information from neighborhood scale to other levels, for example, the district scale division.\n",
    "\n",
    "The image below is from the census made in 1987. The city were divided into 16 different regions and the information was aggregated to display the amount of flows between them. In that year, the collected information of the census had the granularity of 416 regions, but the design of this visualization would not fit to such number of elements. \n",
    "\n",
    "<div>\n",
    "  <div>\n",
    "    <h3>Flows between regions in 1987<h3>\n",
    "    <img src=\"../images/od87/abstract-regions-flow.jpg\">\n",
    "  </div>\n",
    "</div>\n",
    "\n",
    "For someone intended to understand the overall structure of trajectories in a city, it is interesting to have the possibility of seeing the information in different scale perspectives. Given this situation we explore the use of bundling in different levels of spatial aggregation and how they affect the intrinsec information of the data. However, from the bundling perspective, specially the kernel density model that we use, this spatial aggregation can be manipulated by two main factors: The granularity of the input data and the variation of the kernel size parameter. So we design the following experiments to answer questions like \"How can we see the structure of our dataset in different scales?\" or \"What are the advantages or disadvantages of seing the data in different scales?\" and \"What scale choices better show the connection between regions in the city?\" \n",
    "\n",
    "### Experiments:\n",
    "\n",
    "As we said before, the spatial properties and spatial aggregations that we can generate with CUBu depends on a few things. First, the granularity of the data that maps longitudes and latitudes of the trajectories. Secondly, some parameters in the algorithm controls the level of details in the resulting visualization. We then present alternatives of spatial aggregations that can have a significant impact in the bundled visualization, which we present below:\n",
    "\n",
    " - **Variations in the data granularity:** How different is the bundled visualization when using region centroids and specific location as point coordinates? How this different levels of spatial scales impact the overall structure of the visualization?\n",
    " \n",
    " - **Variations in the kernel size:** How different is the bundled visualization when using big kernels and small kernels? Can we achieve a multi-scale visualization based on different kernel sizes? \n",
    " \n",
    "## References for the CUBu Framework\n",
    "\n",
    "Cubu is a framework for bundling graphs. We use it to create our bundled visualizations of our dataset. For more information, check this article from the authors of CUBu.\n",
    "\n",
    "https://ieeexplore.ieee.org/abstract/document/7374742"
   ]
  },
  {
   "cell_type": "code",
   "execution_count": 82,
   "metadata": {},
   "outputs": [],
   "source": [
    "# General Imports\n",
    "import sys\n",
    "import geopandas as gpd #pip install geopandas descartes\n",
    "import pandas as pd #pip install pandas\n",
    "import matplotlib.pyplot as plt # pip install matplotlib\n",
    "import numpy as np\n",
    "from pyproj import Proj, transform\n",
    "\n",
    "from multiprocessing import Pool\n",
    "from dbfread import DBF #pip install dbfread\n",
    "from simpledbf import Dbf5 #pip install simpledbf\n",
    "\n",
    "# Local imports\n",
    "sys.path.append('/home/peach/ic')\n",
    "import scripts.utils as utils"
   ]
  },
  {
   "cell_type": "markdown",
   "metadata": {},
   "source": [
    "# Loading the dataset\n",
    "\n",
    "First we load the data from the 2017 dataset."
   ]
  },
  {
   "cell_type": "code",
   "execution_count": 83,
   "metadata": {},
   "outputs": [],
   "source": [
    "# Read the spec file from 2017\n",
    "YEAR = 2007\n",
    "DATASETS_DIR = '../data/walks-by-zone/'\n",
    "MY_DATASET = 'walks-by-zone-1.csv'\n",
    "\n",
    "trips = pd.read_csv(f'{DATASETS_DIR}{MY_DATASET}')"
   ]
  },
  {
   "cell_type": "markdown",
   "metadata": {},
   "source": [
    "# Number of entries in the datasets\n",
    "\n",
    "The OD census covers only a fraction of the population. Some statistical factors are used to extrapolate the numbers to the entire city. We first count the number of entries to have an idea of the nature of our datasets.\n"
   ]
  },
  {
   "cell_type": "code",
   "execution_count": 84,
   "metadata": {},
   "outputs": [
    {
     "name": "stdout",
     "output_type": "stream",
     "text": [
      "Number of entries in %s dataset: %s 2007 99\n"
     ]
    },
    {
     "data": {
      "image/png": "[encoded data removed]",
      "text/plain": [
       "<Figure size 432x288 with 1 Axes>"
      ]
     },
     "metadata": {
      "needs_background": "light"
     },
     "output_type": "display_data"
    }
   ],
   "source": [
    "trips_count = len(trips)\n",
    "\n",
    "df = pd.DataFrame({'Year': [YEAR], 'Entries Count': [trips_count]})\n",
    "df.plot.bar(x='Year', y='Entries Count', rot=0)\n",
    "print(\"Number of entries in %s dataset: %s\", YEAR, trips_count)"
   ]
  },
  {
   "cell_type": "markdown",
   "metadata": {},
   "source": [
    "# Attribute `FE_VIA`: preparing to compute total number of trips\n",
    "\n",
    "Some statistical factors are used to extrapolate the numbers to the entire city. The `FE_VIA` (expansion factor of trips) is one of them and tell us how many similar trips exist given a record. If we simply sum the factor of all records we have the total number of trips in the city estimated by the census."
   ]
  },
  {
   "cell_type": "code",
   "execution_count": 85,
   "metadata": {},
   "outputs": [
    {
     "name": "stdout",
     "output_type": "stream",
     "text": [
      "There is missing data 'FE_VIA' attribute?: False\n"
     ]
    }
   ],
   "source": [
    "# Check if all datasets contains the column 'FE_VIA'\n",
    "CHECK_ORIGIN_ATTRIBUTE = [x.__contains__('FE_VIA') for x in [trips.columns]]\n",
    "\n",
    "if not(trips.columns.__contains__('FE_VIA')):\n",
    "    raise Exception(\"Error, the dataset does not uses FE_VIA as attribute name.\")\n",
    "\n",
    "# Check missing data in FE_VIA attribute\n",
    "print(\"There is missing data 'FE_VIA' attribute?:\", not(all(trips[['FE_VIA']].notna().values)))\n"
   ]
  },
  {
   "cell_type": "markdown",
   "metadata": {},
   "source": [
    "# Understanding missing `FE_VIA` and incomplete entries\n",
    "\n",
    "As mentioned by the METRO-SP, the records in the datasets contain a flag that tells if the entry is complete or not. By means: **A complete entry is considered to have a trajectory associated to the interviewed family, meaning that they move throughouth the city regularly**. This can lead to missing data in `FE_VIA` attribute, as there is no sense to record an expansion factor for incomplete entries that does not have a trajectory associated. We can simply remove those entries from the dataset. \n",
    "\n",
    "**PS:** Albeit other sources of inconsistency in the data can lead to missing values in `FE_VIA` attribute, but as they are only a small part, we ignore them."
   ]
  },
  {
   "cell_type": "code",
   "execution_count": 86,
   "metadata": {},
   "outputs": [
    {
     "name": "stdout",
     "output_type": "stream",
     "text": [
      "Number of incomplete entries in the dataset: 0\n"
     ]
    },
    {
     "data": {
      "image/png": "[encoded data removed]",
      "text/plain": [
       "<Figure size 1080x720 with 1 Axes>"
      ]
     },
     "metadata": {},
     "output_type": "display_data"
    }
   ],
   "source": [
    "# Count the number of NaN values in FE_VIA attribute\n",
    "incomplete_trips = trips[trips['FE_VIA'].isna()]\n",
    "\n",
    "# Create a dataframe containing the number of complete and incomplete entries for each year\n",
    "df = pd.DataFrame({'Entries': [trips_count-len(incomplete_trips), len(incomplete_trips)]},\n",
    "                    index=['Complete', 'Incomplete'])\n",
    "\n",
    "df.plot.pie(subplots=True, autopct='%1.1f%%', figsize=(15,10), explode=(0.04,0), fontsize=18)\n",
    "print(\"Number of incomplete entries in the dataset:\", len(incomplete_trips))\n",
    "\n",
    "# Remove missing data according to FE_VIA attribute\n",
    "trips.dropna(subset=['FE_VIA'], inplace=True)"
   ]
  },
  {
   "cell_type": "markdown",
   "metadata": {},
   "source": [
    "# Computing the total number of trips\n",
    "\n",
    "After removing incomplete trips we can use the factor of expansion `FE_VIA` to compute the total number of trips in the city in a regular day. We simply sum this attribute for all given entries."
   ]
  },
  {
   "cell_type": "code",
   "execution_count": 87,
   "metadata": {},
   "outputs": [
    {
     "name": "stdout",
     "output_type": "stream",
     "text": [
      "Total of 3135 million trips in the dataset\n"
     ]
    },
    {
     "data": {
      "image/png": "[encoded data removed]",
      "text/plain": [
       "<Figure size 432x288 with 1 Axes>"
      ]
     },
     "metadata": {
      "needs_background": "light"
     },
     "output_type": "display_data"
    }
   ],
   "source": [
    "expanded_trips_count = trips[['FE_VIA']].sum()[0]\n",
    "\n",
    "base_count = expanded_trips_count/1000000\n",
    "\n",
    "df = pd.DataFrame({'Year': [YEAR], 'Trips Count': [expanded_trips_count/1000000]})\n",
    "ax = df.plot.bar(x='Year', y='Trips Count', rot=0)\n",
    "ax.set_ylim(top=55)\n",
    "ax.set_ylabel(\"Trips in millions\")\n",
    "plt.title(\"Number of trips per year\")\n",
    "\n",
    "# Add this loop to add the annotations\n",
    "for p in ax.patches[1:]:\n",
    "    width, height = p.get_width(), p.get_height()\n",
    "    x, y = p.get_xy() \n",
    "    ax.annotate('{:.0%}'.format((height/base_count) - 1) + ' increase', (x, y + height + 1.1))\n",
    "\n",
    "print(\"Total of %i million trips in the dataset\" % expanded_trips_count)"
   ]
  },
  {
   "cell_type": "markdown",
   "metadata": {},
   "source": [
    "# Rounding expansion factor `FE_VIA`\n",
    "\n",
    "This variable is a float number, which signs we can have 1.5 trip multiplication factor with decimal component. This can be a problem when calculating average values for some variables, i.e. `duration`. Imagine if we have 1.5 trips with duration 30 minutes. Does that mean that we have 1 trip that last 30 minutes and another one that last 15 minutes? Again, imagine if we want to scale the number of records in the dataset accordinly, how can we make a 1.5 duplication of an entry?\n",
    "\n",
    "To solve this we can cast this value to int. The problem is that we will be losing some data, but thinking in absolute values, this lost is not so significant for our dataset. In the worst case, where all entries have factors containing `.999999` in the decimal part (i.eg. `230.9, 100.9`), we lose at most N entries from the total sum when using the expansion factor, as we will end with `230` and `100`. Thinking in absolute values this will not be a big lost as the total sum of trips is in the order of millions `10^6`, and number of entries that we use to calculate the total number of trips is one order of magnitude below, thousands `10^5`."
   ]
  },
  {
   "cell_type": "code",
   "execution_count": 88,
   "metadata": {},
   "outputs": [
    {
     "name": "stdout",
     "output_type": "stream",
     "text": [
      "- Dataset:\n",
      "      \tExpanded Trips (float): 3135\n",
      "      \tRounded Trips (int): 3098\n",
      "      \tLost trips: 37, 1.184209%\n"
     ]
    },
    {
     "data": {
      "image/png": "[encoded data removed]",
      "text/plain": [
       "<Figure size 432x288 with 1 Axes>"
      ]
     },
     "metadata": {
      "needs_background": "light"
     },
     "output_type": "display_data"
    }
   ],
   "source": [
    "# Calculate the number of trips rounding the factor of expansion to a floor value\n",
    "rounded_expanded_trips_count = trips[['FE_VIA']].astype(int).sum()[0]\n",
    "\n",
    "# Calculate the percentual of trips removed when cliping the factor of expansion\n",
    "percentual = 100*(expanded_trips_count - rounded_expanded_trips_count)/expanded_trips_count\n",
    "\n",
    "df = pd.DataFrame({'Year': [YEAR],\n",
    "                   'Trips Count': [expanded_trips_count],\n",
    "                   'Rounded Count': [rounded_expanded_trips_count]\n",
    "                  })\n",
    "\n",
    "fig, ax1 = plt.subplots()\n",
    "ax1.set_ylabel('Number of trips')\n",
    "\n",
    "df.plot.bar(x='Year', y='Trips Count', ax=ax1, color='red', rot=0)\n",
    "df.plot.bar(x='Year', y='Rounded Count', ax=ax1, rot=0)\n",
    "\n",
    "print(\"\"\"- Dataset:\n",
    "      \\tExpanded Trips (float): %i\n",
    "      \\tRounded Trips (int): %i\n",
    "      \\tLost trips: %i, %f%%\"\"\" % \n",
    "      (expanded_trips_count, rounded_expanded_trips_count, expanded_trips_count - rounded_expanded_trips_count, percentual))\n",
    "\n",
    "# Round FE_VIA to nearest floor integer value\n",
    "trips['FE_VIA'] = trips[['FE_VIA']].astype(int)"
   ]
  },
  {
   "cell_type": "code",
   "execution_count": 89,
   "metadata": {},
   "outputs": [],
   "source": [
    "# Check if the datasets contains the column 'ZONA_O' or the already transformed 'ORIGIN_ID'\n",
    "if not(trips.columns.__contains__('ZONA_O') or trips2.columns.__contains__('ORIGIN_ID')):\n",
    "    raise Exception(\"Error, the dataset does not uses ZONA_O or ORIGIN_ID as attribute name.\")\n",
    "\n",
    "# Rename ZONA_O column to ORIGIN_ID\n",
    "trips.rename(columns={\"ZONA_O\": \"ORIGIN_ID\"}, inplace=True)\n",
    "\n",
    "# Cast ORIGIN_ID to int\n",
    "trips['ORIGIN_ID'] = trips[['ORIGIN_ID']].astype(int)"
   ]
  },
  {
   "cell_type": "markdown",
   "metadata": {},
   "source": [
    "## 1.1 Missing ORIGIN_ID data\n",
    "\n",
    "We can not figure out what are the origins of entries without this data, so we simply drop them from our analysis."
   ]
  },
  {
   "cell_type": "code",
   "execution_count": 90,
   "metadata": {},
   "outputs": [],
   "source": [
    "trips.dropna(subset=['ORIGIN_ID'], inplace=True)"
   ]
  },
  {
   "cell_type": "markdown",
   "metadata": {},
   "source": [
    "## 2. Attribute ZONA_D\n",
    "\n",
    "Similar to `ZONA_O` the **(2017)** dataset uses `ZONA_D` to convey information about the zone of destination of a given trajectory. We can now see the same data regarding the incoming traffic in the 516 regions of the city to spot the behaviour of citizens."
   ]
  },
  {
   "cell_type": "code",
   "execution_count": 91,
   "metadata": {},
   "outputs": [],
   "source": [
    "# Check if the datasets contains the column 'ZONA_O' or the already transformed 'ORIGIN_ID'\n",
    "if not(trips.columns.__contains__('ZONA_D') or trips.columns.__contains__('DESTINATION_ID')):\n",
    "    raise Exception(\"Error, the dataset does not uses ZONA_D or DESTINATION_ID as attribute name.\")\n",
    "\n",
    "# Rename ZONA_O column to ORIGIN_ID\n",
    "trips.rename(columns={\"ZONA_D\": \"DESTINATION_ID\"}, inplace=True)\n",
    "\n",
    "# Cast ORIGIN_ID to int\n",
    "trips['DESTINATION_ID'] = trips[['DESTINATION_ID']].astype(int)"
   ]
  },
  {
   "cell_type": "markdown",
   "metadata": {},
   "source": [
    "## 1.1 Missing DESTINATION_ID data\n",
    "\n",
    "We can not figure out what are the destination of entries without this data, so we simply drop them from our analysis."
   ]
  },
  {
   "cell_type": "code",
   "execution_count": 92,
   "metadata": {},
   "outputs": [],
   "source": [
    "trips.dropna(subset=['DESTINATION_ID'], inplace=True)"
   ]
  },
  {
   "cell_type": "markdown",
   "metadata": {},
   "source": [
    "## A) Show the variance of  incoming trips in a given year:\n",
    "\n",
    "Color coding here is relative to the considered year. Thus, we can spot areas with most flows in that given year. If we side-by-side plots from both years, its possible to see if there's any difference in the distribution of outgoing flows across the years."
   ]
  },
  {
   "cell_type": "markdown",
   "metadata": {},
   "source": [
    "### Incoming vs Outcoming Trips\n",
    "\n",
    "If we get the statistics of incoming and outcoming flow in each region, we can perceive the similarity between the mean, max, min and percentile values for both kinds of flows."
   ]
  },
  {
   "cell_type": "markdown",
   "metadata": {},
   "source": [
    "## Reducing the dataset\n",
    "\n",
    "We could see the distribution of incoming and outgoing trips per region in the previous histogram and density maps. This lead to a total of 42 million trips in the entire city. A direct strategy to represent the entire dataset is to duplicate entries according to the expansion factor `FE_VIA` and use as the input file in CUBu. However, this would lead to a huge computational complexity in terms of algorithm calculation and image rendering and given the limit of resources in our research (hardware and time) we need to bypass this complexity. A solution to this is to reduce the dataset.\n",
    "\n",
    "Given the previous tests, we were able to run about a million edges, so we need to reduce our dataset to this order of magnitude. To achieve about a million edges we would need to divide the 42 million trips by a factor around 30, so we investigate the attribute `FE_VIA`, used to expand the sample data to represent the entire city, to see how can we reduce the total number of trips. The first step is to check the smaller value of `FE_VIA` and divide all values by that number. If this factor is not enough, we need to remove some edges from the dataset and analyse the impact of this removal."
   ]
  },
  {
   "cell_type": "markdown",
   "metadata": {},
   "source": [
    "### Counting the number of edges\n",
    "\n",
    "To reduced the dataset is to take a fraction of it preserving its distribution. A direct approach is to investigate the smaller value of `FE_VIA` and use it as a factor to reduce our dataset dividing all values by that factor. This approach is desirable as it keeps the distribution of the data. To figure what is this number we select all unique edges (pairs of origins and destinations), summing the `FE_VIA` attribute of duplicated edges. Then we describe our dataset to see the behaviour of the `FE_VIA` attribute. The desirable value given our restrictions is 30."
   ]
  },
  {
   "cell_type": "code",
   "execution_count": 93,
   "metadata": {},
   "outputs": [
    {
     "data": {
      "text/html": [
       "<div>\n",
       "<style scoped>\n",
       "    .dataframe tbody tr th:only-of-type {\n",
       "        vertical-align: middle;\n",
       "    }\n",
       "\n",
       "    .dataframe tbody tr th {\n",
       "        vertical-align: top;\n",
       "    }\n",
       "\n",
       "    .dataframe thead th {\n",
       "        text-align: right;\n",
       "    }\n",
       "</style>\n",
       "<table border=\"1\" class=\"dataframe\">\n",
       "  <thead>\n",
       "    <tr style=\"text-align: right;\">\n",
       "      <th></th>\n",
       "      <th>FE_VIA</th>\n",
       "    </tr>\n",
       "  </thead>\n",
       "  <tbody>\n",
       "    <tr>\n",
       "      <th>count</th>\n",
       "      <td>33.000000</td>\n",
       "    </tr>\n",
       "    <tr>\n",
       "      <th>mean</th>\n",
       "      <td>93.878788</td>\n",
       "    </tr>\n",
       "    <tr>\n",
       "      <th>std</th>\n",
       "      <td>135.236311</td>\n",
       "    </tr>\n",
       "    <tr>\n",
       "      <th>min</th>\n",
       "      <td>18.000000</td>\n",
       "    </tr>\n",
       "    <tr>\n",
       "      <th>25%</th>\n",
       "      <td>22.000000</td>\n",
       "    </tr>\n",
       "    <tr>\n",
       "      <th>50%</th>\n",
       "      <td>43.000000</td>\n",
       "    </tr>\n",
       "    <tr>\n",
       "      <th>75%</th>\n",
       "      <td>106.000000</td>\n",
       "    </tr>\n",
       "    <tr>\n",
       "      <th>max</th>\n",
       "      <td>748.000000</td>\n",
       "    </tr>\n",
       "  </tbody>\n",
       "</table>\n",
       "</div>"
      ],
      "text/plain": [
       "           FE_VIA\n",
       "count   33.000000\n",
       "mean    93.878788\n",
       "std    135.236311\n",
       "min     18.000000\n",
       "25%     22.000000\n",
       "50%     43.000000\n",
       "75%    106.000000\n",
       "max    748.000000"
      ]
     },
     "execution_count": 93,
     "metadata": {},
     "output_type": "execute_result"
    }
   ],
   "source": [
    "# Count the number of edges (pairs of origins and destinations) and sort by count\n",
    "trips.groupby(by=['ORIGIN_ID', 'DESTINATION_ID']).sum()[['FE_VIA']].sort_values(by=['FE_VIA', 'ORIGIN_ID', 'DESTINATION_ID']).describe()"
   ]
  },
  {
   "cell_type": "markdown",
   "metadata": {},
   "source": [
    "Our analys showed that the minimum value of `FE_VIA` is 1. This mean that we can not make any reduction based on that, so we need to remove some trips from the dataset to achieve the reduction needed."
   ]
  },
  {
   "cell_type": "markdown",
   "metadata": {},
   "source": [
    "### Removing trips with small weights \n",
    "\n",
    "The `FE_VIA` acts like a weight of the edges. Previous analyisis showed that this weight ranges from `1 to 238999`, being most of them placed around the mean value of 80k. Considering all the 42 million of trips, we investigate what would happen to the distribution of trips if we remove edges with small weights that correspond to a minor fraction of the datasete. This way we could divide `FE_VIA` by a reasonable value and obtain a reduced dataset suitable for our bundling visualization. For instance, we check the distribution of trips with `FE_VIA` around 30, which would make it possible to achieve a dataset reasonable for our computation. We then analyse the impact of removing trips below a given threshold in the distribution of the trips. Its important to remember that such reduction is needed because of limits in our available resources, and given enough time and hardware, it would be possible to make the entire computation.\n",
    "\n",
    "So we plot the percentual loss of data in the 42 million trips if we remove trips where the expansion factor `FE_VIA` below 50."
   ]
  },
  {
   "cell_type": "code",
   "execution_count": 94,
   "metadata": {},
   "outputs": [
    {
     "name": "stdout",
     "output_type": "stream",
     "text": [
      "Total expanded trips:  3098\n"
     ]
    }
   ],
   "source": [
    "# Count the total number of trips\n",
    "total_trips = trips[['FE_VIA']].sum()[0]\n",
    "print(\"Total expanded trips: \", total_trips)"
   ]
  },
  {
   "cell_type": "code",
   "execution_count": 95,
   "metadata": {},
   "outputs": [
    {
     "data": {
      "text/plain": [
       "<AxesSubplot:xlabel='FE_VIA'>"
      ]
     },
     "execution_count": 95,
     "metadata": {},
     "output_type": "execute_result"
    },
    {
     "data": {
      "image/png": "[encoded data removed]",
      "text/plain": [
       "<Figure size 1152x576 with 1 Axes>"
      ]
     },
     "metadata": {
      "needs_background": "light"
     },
     "output_type": "display_data"
    }
   ],
   "source": [
    "# Sum FE_VIA for all edges (pairs of origins and destinations)\n",
    "edges_weights = trips.sort_values(by='FE_VIA')\n",
    "edges_weights[['PERCENTUAL_VALUE']] = edges_weights[['FE_VIA']]*100/total_trips\n",
    "\n",
    "# Filter by weights less than 60 and plot the accumulated distribution\n",
    "edges_weights = edges_weights.loc[edges_weights['FE_VIA'] <= 70]#\n",
    "edges_weights = edges_weights.groupby(by='FE_VIA').sum().reset_index()\n",
    "edges_weights[['PERCENTUAL_VALUE']] = edges_weights[['PERCENTUAL_VALUE']].cumsum()\n",
    "edges_weights.plot.bar(x='FE_VIA',y='PERCENTUAL_VALUE', figsize=(16,8))\n"
   ]
  },
  {
   "cell_type": "markdown",
   "metadata": {},
   "source": [
    "### Removing trips with FE_VIA below 55\n",
    "\n",
    "The previous histogram accumulate the number of trips according to the factor of expansion `FE_VIA` and the percentual contribution to the entire dataset of 41 million trips. It show us that if we remove trips with expansion factor below 55 we lose around 2% of the information of the people moving through the city. Removing this trips enable us to divide the number of trips by 55, reducing our sample and preserving its distribution (considering the remaining trips). From that, we can analyse the impact of this removal by comparing the number of incoming and outgoing trips in each region after this reduction process.\n",
    "\n",
    "So we remove edges where the expansion factor `FE_VIA` is less than 55. After that, we reduce the remaining trips by this factor, dividing `FE_VIA` by 55. For example if an entry has 110 as expansion factor, we would replicate this entry 110 times in our final dataset. Now, after the reduction, we divide 110 by 55 ending with 2 replicas only."
   ]
  },
  {
   "cell_type": "code",
   "execution_count": 96,
   "metadata": {},
   "outputs": [],
   "source": [
    "# Setting the reduction factor to 55 we lose only 11% of our dataset\n",
    "# and we can reduce our data to around 1 million entries instead of 41 million\n",
    "REDUCTION_FACTOR = 55\n",
    "\n",
    "reduced_trips = trips.copy().loc[trips['FE_VIA'] >= REDUCTION_FACTOR]\n",
    "reduced_trips['FE_VIA'] = reduced_trips['FE_VIA'].div(REDUCTION_FACTOR).astype(int)"
   ]
  },
  {
   "cell_type": "markdown",
   "metadata": {},
   "source": [
    "# Attributes CO_O_X, CO_O_Y, CO_D_X and CO_D_Y\n",
    "\n",
    "This are the specific locations in the level of neighborhoods contained in the data. We will use this coordinates as our latitude and longitude points. In our analysis we removed points where the ORIGIN_ID and DESTINATION_ID information was missing and now we should do something about the missing coordinate values. But now the strategy is a bit different, if a point misses the coordinates we can replace it by the centroid coordinate of its origin and destination zone (because we know it). So first, we check if this values are missing and if we need to do the replacement.\n",
    "\n",
    "Also, it is important to remember that this points must be in the same projection system as the shapefile that loads the map within the CUBu Framework. The 2017 dataset brings the data in the `epsg:22523` projection. As we have adopted the projection `ellps:WGS84`, we need to convert the coordinates data in our dataset.\n",
    "\n",
    "So we proceed with the coordinates attributes in two steps:\n",
    "\n",
    "- Step 1: Find and replace missing coordinates by centroids coordinates\n",
    "- Step 2: Change coordinates projection to ellps:WGS84"
   ]
  },
  {
   "cell_type": "code",
   "execution_count": 97,
   "metadata": {},
   "outputs": [
    {
     "name": "stdout",
     "output_type": "stream",
     "text": [
      "There is no missing coordinates data, you can proceeed!\n"
     ]
    }
   ],
   "source": [
    "### Step 1: Find and replace missing coordinates by centroids\n",
    "if all(reduced_trips[['CO_O_X', 'CO_O_Y', 'CO_D_X', 'CO_D_Y']].notna()):\n",
    "    print(\"There is no missing coordinates data, you can proceeed!\")"
   ]
  },
  {
   "cell_type": "code",
   "execution_count": 98,
   "metadata": {},
   "outputs": [
    {
     "name": "stderr",
     "output_type": "stream",
     "text": [
      "/home/peach/ic/env/lib/python3.8/site-packages/pyproj/crs/crs.py:131: FutureWarning: '+init=<authority>:<code>' syntax is deprecated. '<authority>:<code>' is the preferred initialization method. When making the change, be mindful of axis order changes: https://pyproj4.github.io/pyproj/stable/gotchas.html#axis-order-changes-in-proj-6\n",
      "  in_crs_string = _prepare_from_proj_string(in_crs_string)\n",
      "/home/peach/ic/env/lib/python3.8/site-packages/pyproj/crs/crs.py:131: FutureWarning: '+init=<authority>:<code>' syntax is deprecated. '<authority>:<code>' is the preferred initialization method. When making the change, be mindful of axis order changes: https://pyproj4.github.io/pyproj/stable/gotchas.html#axis-order-changes-in-proj-6\n",
      "  in_crs_string = _prepare_from_proj_string(in_crs_string)\n"
     ]
    }
   ],
   "source": [
    "### Step 2: Change coordinates projection to ellps:WGS84\n",
    "\n",
    "# Create a dataframe containing origin coordinates CO_O_X and CO_O_Y\n",
    "geo_trips_origins = gpd.GeoDataFrame(\n",
    "    reduced_trips[['CO_O_X', 'CO_O_Y']], geometry=gpd.points_from_xy(reduced_trips.CO_O_X, reduced_trips.CO_O_Y))\n",
    "\n",
    "# Convert origin coordinates to the desired projection \n",
    "geo_trips_origins.crs = {'init': 'epsg:22523'}\n",
    "geo_trips_origins.to_crs({'proj': 'longlat', 'ellps': 'WGS84', 'no_defs': True}, inplace=True)\n",
    "\n",
    "# Create a dataframe containing origin coordinates CO_D_X and CO_D_Y\n",
    "geo_trips_destinations = gpd.GeoDataFrame(\n",
    "    reduced_trips[['CO_D_X', 'CO_D_Y']], geometry=gpd.points_from_xy(reduced_trips.CO_D_X, reduced_trips.CO_D_Y))\n",
    "\n",
    "# Convert destination coordinates to the desired projection\n",
    "geo_trips_destinations.crs = {'init': 'epsg:22523'}\n",
    "geo_trips_destinations.to_crs({'proj': 'longlat', 'ellps': 'WGS84', 'no_defs': True}, inplace=True)\n"
   ]
  },
  {
   "cell_type": "code",
   "execution_count": 99,
   "metadata": {},
   "outputs": [
    {
     "data": {
      "text/html": [
       "<div>\n",
       "<style scoped>\n",
       "    .dataframe tbody tr th:only-of-type {\n",
       "        vertical-align: middle;\n",
       "    }\n",
       "\n",
       "    .dataframe tbody tr th {\n",
       "        vertical-align: top;\n",
       "    }\n",
       "\n",
       "    .dataframe thead th {\n",
       "        text-align: right;\n",
       "    }\n",
       "</style>\n",
       "<table border=\"1\" class=\"dataframe\">\n",
       "  <thead>\n",
       "    <tr style=\"text-align: right;\">\n",
       "      <th></th>\n",
       "      <th>CO_D_X</th>\n",
       "      <th>CO_D_Y</th>\n",
       "      <th>geometry</th>\n",
       "    </tr>\n",
       "  </thead>\n",
       "  <tbody>\n",
       "    <tr>\n",
       "      <th>0</th>\n",
       "      <td>333104.0</td>\n",
       "      <td>7394476.0</td>\n",
       "      <td>POINT (-46.63504 -23.55119)</td>\n",
       "    </tr>\n",
       "    <tr>\n",
       "      <th>1</th>\n",
       "      <td>333743.0</td>\n",
       "      <td>7394463.0</td>\n",
       "      <td>POINT (-46.62879 -23.55137)</td>\n",
       "    </tr>\n",
       "    <tr>\n",
       "      <th>2</th>\n",
       "      <td>333453.0</td>\n",
       "      <td>7394501.0</td>\n",
       "      <td>POINT (-46.63162 -23.55100)</td>\n",
       "    </tr>\n",
       "    <tr>\n",
       "      <th>3</th>\n",
       "      <td>333814.0</td>\n",
       "      <td>7394428.0</td>\n",
       "      <td>POINT (-46.62809 -23.55169)</td>\n",
       "    </tr>\n",
       "    <tr>\n",
       "      <th>4</th>\n",
       "      <td>333453.0</td>\n",
       "      <td>7394501.0</td>\n",
       "      <td>POINT (-46.63162 -23.55100)</td>\n",
       "    </tr>\n",
       "  </tbody>\n",
       "</table>\n",
       "</div>"
      ],
      "text/plain": [
       "     CO_D_X     CO_D_Y                     geometry\n",
       "0  333104.0  7394476.0  POINT (-46.63504 -23.55119)\n",
       "1  333743.0  7394463.0  POINT (-46.62879 -23.55137)\n",
       "2  333453.0  7394501.0  POINT (-46.63162 -23.55100)\n",
       "3  333814.0  7394428.0  POINT (-46.62809 -23.55169)\n",
       "4  333453.0  7394501.0  POINT (-46.63162 -23.55100)"
      ]
     },
     "execution_count": 99,
     "metadata": {},
     "output_type": "execute_result"
    }
   ],
   "source": [
    "geo_trips_destinations.head()"
   ]
  },
  {
   "cell_type": "code",
   "execution_count": 100,
   "metadata": {},
   "outputs": [],
   "source": [
    "# Replace data by the new transformed coordinates\n",
    "reduced_trips['CO_O_X'] = geo_trips_origins.apply(lambda x: x['geometry'].x, axis=1)\n",
    "reduced_trips['CO_O_Y'] = geo_trips_origins.apply(lambda x: x['geometry'].y, axis=1)\n",
    "reduced_trips['CO_D_X'] = geo_trips_destinations.apply(lambda x: x['geometry'].x, axis=1)\n",
    "reduced_trips['CO_D_Y'] = geo_trips_destinations.apply(lambda x: x['geometry'].y, axis=1)"
   ]
  },
  {
   "cell_type": "markdown",
   "metadata": {},
   "source": [
    "### Add time information\n",
    "\n",
    "Adds departure and arrival times to our trips so we can filter in different times of the day"
   ]
  },
  {
   "cell_type": "code",
   "execution_count": 101,
   "metadata": {},
   "outputs": [
    {
     "data": {
      "text/html": [
       "<div>\n",
       "<style scoped>\n",
       "    .dataframe tbody tr th:only-of-type {\n",
       "        vertical-align: middle;\n",
       "    }\n",
       "\n",
       "    .dataframe tbody tr th {\n",
       "        vertical-align: top;\n",
       "    }\n",
       "\n",
       "    .dataframe thead th {\n",
       "        text-align: right;\n",
       "    }\n",
       "</style>\n",
       "<table border=\"1\" class=\"dataframe\">\n",
       "  <thead>\n",
       "    <tr style=\"text-align: right;\">\n",
       "      <th></th>\n",
       "      <th>ARRIVAL_TIME</th>\n",
       "      <th>DEPARTURE_TIME</th>\n",
       "      <th>H_SAIDA</th>\n",
       "      <th>H_CHEG</th>\n",
       "      <th>MIN_SAIDA</th>\n",
       "      <th>MIN_CHEG</th>\n",
       "    </tr>\n",
       "  </thead>\n",
       "  <tbody>\n",
       "    <tr>\n",
       "      <th>count</th>\n",
       "      <td>99.000000</td>\n",
       "      <td>99.000000</td>\n",
       "      <td>99.000000</td>\n",
       "      <td>99.000000</td>\n",
       "      <td>99.000000</td>\n",
       "      <td>99.000000</td>\n",
       "    </tr>\n",
       "    <tr>\n",
       "      <th>mean</th>\n",
       "      <td>12.808990</td>\n",
       "      <td>12.641414</td>\n",
       "      <td>12.474747</td>\n",
       "      <td>12.606061</td>\n",
       "      <td>16.666667</td>\n",
       "      <td>20.292929</td>\n",
       "    </tr>\n",
       "    <tr>\n",
       "      <th>std</th>\n",
       "      <td>3.998844</td>\n",
       "      <td>4.024980</td>\n",
       "      <td>4.051564</td>\n",
       "      <td>3.984199</td>\n",
       "      <td>18.419710</td>\n",
       "      <td>17.049898</td>\n",
       "    </tr>\n",
       "    <tr>\n",
       "      <th>min</th>\n",
       "      <td>3.100000</td>\n",
       "      <td>3.000000</td>\n",
       "      <td>3.000000</td>\n",
       "      <td>3.000000</td>\n",
       "      <td>0.000000</td>\n",
       "      <td>0.000000</td>\n",
       "    </tr>\n",
       "    <tr>\n",
       "      <th>25%</th>\n",
       "      <td>9.275000</td>\n",
       "      <td>9.000000</td>\n",
       "      <td>9.000000</td>\n",
       "      <td>9.000000</td>\n",
       "      <td>0.000000</td>\n",
       "      <td>5.000000</td>\n",
       "    </tr>\n",
       "    <tr>\n",
       "      <th>50%</th>\n",
       "      <td>12.500000</td>\n",
       "      <td>12.450000</td>\n",
       "      <td>12.000000</td>\n",
       "      <td>12.000000</td>\n",
       "      <td>10.000000</td>\n",
       "      <td>15.000000</td>\n",
       "    </tr>\n",
       "    <tr>\n",
       "      <th>75%</th>\n",
       "      <td>15.020000</td>\n",
       "      <td>15.000000</td>\n",
       "      <td>15.000000</td>\n",
       "      <td>15.000000</td>\n",
       "      <td>30.000000</td>\n",
       "      <td>40.000000</td>\n",
       "    </tr>\n",
       "    <tr>\n",
       "      <th>max</th>\n",
       "      <td>23.550000</td>\n",
       "      <td>23.500000</td>\n",
       "      <td>23.000000</td>\n",
       "      <td>23.000000</td>\n",
       "      <td>55.000000</td>\n",
       "      <td>55.000000</td>\n",
       "    </tr>\n",
       "  </tbody>\n",
       "</table>\n",
       "</div>"
      ],
      "text/plain": [
       "       ARRIVAL_TIME  DEPARTURE_TIME    H_SAIDA     H_CHEG  MIN_SAIDA  \\\n",
       "count     99.000000       99.000000  99.000000  99.000000  99.000000   \n",
       "mean      12.808990       12.641414  12.474747  12.606061  16.666667   \n",
       "std        3.998844        4.024980   4.051564   3.984199  18.419710   \n",
       "min        3.100000        3.000000   3.000000   3.000000   0.000000   \n",
       "25%        9.275000        9.000000   9.000000   9.000000   0.000000   \n",
       "50%       12.500000       12.450000  12.000000  12.000000  10.000000   \n",
       "75%       15.020000       15.000000  15.000000  15.000000  30.000000   \n",
       "max       23.550000       23.500000  23.000000  23.000000  55.000000   \n",
       "\n",
       "        MIN_CHEG  \n",
       "count  99.000000  \n",
       "mean   20.292929  \n",
       "std    17.049898  \n",
       "min     0.000000  \n",
       "25%     5.000000  \n",
       "50%    15.000000  \n",
       "75%    40.000000  \n",
       "max    55.000000  "
      ]
     },
     "execution_count": 101,
     "metadata": {},
     "output_type": "execute_result"
    }
   ],
   "source": [
    "# Add time information to our trips\n",
    "reduced_trips['FRACTIONED_MIN_SAIDA']= reduced_trips[['MIN_SAIDA']]/100\n",
    "reduced_trips['FRACTIONED_MIN_CHEG']= reduced_trips[['MIN_CHEG']]/100\n",
    "reduced_trips['DEPARTURE_TIME']= reduced_trips[['H_SAIDA', 'FRACTIONED_MIN_SAIDA']].sum(axis=1)\n",
    "reduced_trips['ARRIVAL_TIME']= reduced_trips[['H_CHEG', 'FRACTIONED_MIN_CHEG']].sum(axis=1)   \n",
    "\n",
    "reduced_trips[['ARRIVAL_TIME', 'DEPARTURE_TIME', 'H_SAIDA', 'H_CHEG', 'MIN_SAIDA', 'MIN_CHEG']].describe()"
   ]
  },
  {
   "cell_type": "markdown",
   "metadata": {},
   "source": [
    "###  Replicating trips\n",
    "\n",
    "Our reduced dataset contain the trips that we will work with. The next step is to replicate the entries according to the expansion factor given by the reduced attribute `FE_VIA`. Our strategy to create the input to CUBu is to replicate edges the number of times represented by this attribute."
   ]
  },
  {
   "cell_type": "code",
   "execution_count": 102,
   "metadata": {},
   "outputs": [],
   "source": [
    "reduced_trips['FE_VIA_ARRAY'] = reduced_trips.apply(lambda entry: np.arange(entry['FE_VIA']), axis=1)\n",
    "expanded_trips = reduced_trips.explode('FE_VIA_ARRAY')"
   ]
  },
  {
   "cell_type": "code",
   "execution_count": 103,
   "metadata": {},
   "outputs": [
    {
     "name": "stdout",
     "output_type": "stream",
     "text": [
      "Reduced dataset contains  99  entries.\n",
      "Expanded dataset contains:  3098  entries\n"
     ]
    }
   ],
   "source": [
    "print(\"Reduced dataset contains \", len(reduced_trips), \" entries.\")\n",
    "print(\"Expanded dataset contains: \", len(expanded_trips), \" entries\")"
   ]
  },
  {
   "cell_type": "markdown",
   "metadata": {},
   "source": [
    "## Final dataset\n",
    "\n",
    "The final dataset contain 685.115  entries. Now we can go for our graph visualization and using CUBu framework to explore the spatial properties of trips in the metropolitan area of Sao Paulo."
   ]
  },
  {
   "cell_type": "markdown",
   "metadata": {},
   "source": [
    "# Line based visualization and bundling\n",
    "\n",
    "Now that we took an overview of the flows in each region, the distribution and outlier values, we can go for our line based visualization. The goal of this visualization is to enlighten the connection between regions and show their strength of such flows, based on the density of trips between pairs of regions. So we experiment with different possibilities of spatial aggregations to obtain a multi-scale perspective of the data as follows:\n",
    "\n",
    "## Experiments\n",
    "\n",
    "Our experiments cover two main aspects of spatial properties that affects the result of the bundled visualization. Variations in the data granularity and variations in the kernel size parameter. Both aspects are directly associated to the scale of the visualization, so we address as follows:\n",
    "\n",
    "###  **Variations in the data granularity:**\n",
    " - a) Bundle data using region centroids and default kernel size\n",
    " - b) Bundle data using point based locations and default kernel size\n",
    " - c) Bundle data using macro region centroids and default kernel size\n",
    "  \n",
    "This set of experiments allow us to compare how different is the bundled visualization when using region centroids and specific location as point coordinates. For instance, we analyze how this different levels of spatial scales impact the overall structure of the visualization. One important thing to remember is that transport modes has different natures, people that go by foot or by bike usually perform low distances and this can affect the final results if we aggregate those modals by region centroids. This experiments will help us to show this differences.\n",
    "\n",
    "###  **Variations in the kernel size:**\n",
    " - d) Bundle data using point based locations and bigger kernel size \n",
    " - e) Bundle data using point based locations and smaller kernel size\n",
    " \n",
    "The kernel size control the level of aggregation during the bundling iterations. It is the horizon of how far a point see other points. Smaller kernels results in more detailed bundles, with less aggregation of edges. A kernel so small as the point size itself result in a image that looks like no bundling were applied at all. Bigger kernels results in larger areas of aggregation, and thus, less details in the resulting image. This difference acts as a multi-scale parameter, similar to a zoom effect in the image. This experiments help us to understand the impact of the kernel size in the bundling of point based locations. The use of point based locations is a good fit to this experiments as it is the highest level of details of our dataset, so we can play with a wide range of values for the kernel size that goes from no bundling at all (smallest kernel size possible) to a strong bundling (highest kernel size possible)."
   ]
  },
  {
   "cell_type": "markdown",
   "metadata": {},
   "source": [
    "## b) Bundle data using point based locations and default kernel size\n",
    "\n",
    "To analyse our data using point latitudes and longitudes, we just select `COORD_X` and `COORD_Y` for origin and destination in our dataset.\n",
    "\n",
    " - Step B1: Transform the trips dataset to CUBu format\n",
    " - Step B2: Generate the bundled visualizations\n",
    " \n",
    "We use the default kernel size of 15 pixels and the default image resolution of 512x512 pixels."
   ]
  },
  {
   "cell_type": "markdown",
   "metadata": {},
   "source": [
    "### Step B1 -  Transform the trips dataset to CUBu format\n",
    "\n",
    "Now our trips data contain the origins and destinations for each region, we can save it to Cubu format,\n",
    "specifying the fields as expected by the CUBu framework.\n",
    "\n",
    "`\n",
    "cubu_fields = {\n",
    "    'LON_O': 'CO_O_Y',\n",
    "    'LAT_O': 'CO_O_X',\n",
    "    'LON_D': 'CO_D_Y',\n",
    "    'LAT_D': 'CO_D_X'\n",
    "}\n",
    "`"
   ]
  },
  {
   "cell_type": "code",
   "execution_count": 104,
   "metadata": {},
   "outputs": [
    {
     "name": "stdout",
     "output_type": "stream",
     "text": [
      "\n",
      "File written to  ../data/walks-by-zone/processed/walks-by-zone-1.csv\n",
      "Cubu colunms:  ['IDX', 'MODOPRIN', 'DEPARTURE_TIME', 'ARRIVAL_TIME', 'LON_O', 'LAT_O', 'LON_D', 'LAT_D']\n"
     ]
    }
   ],
   "source": [
    "cubu_fields = {\n",
    "    'DEPARTURE_TIME': 'DEPARTURE_TIME',\n",
    "    'ARRIVAL_TIME': 'ARRIVAL_TIME',\n",
    "    'LON_O': 'CO_O_X',\n",
    "    'LAT_O': 'CO_O_Y',\n",
    "    'LON_D': 'CO_D_X',\n",
    "    'LAT_D': 'CO_D_Y',\n",
    "    'MODOPRIN': 'MODOPRIN'\n",
    "}\n",
    "\n",
    "results_dir = DATASETS_DIR + 'processed'\n",
    "\n",
    "import os\n",
    "try:\n",
    "    os.mkdir(results_dir)\n",
    "except FileExistsError:\n",
    "    pass\n",
    "\n",
    "file_path = results_dir + '/' + MY_DATASET\n",
    "utils.parse_to_cubu(expanded_trips.copy(), file_path, cubu_fields)"
   ]
  }
 ],
 "metadata": {
  "kernelspec": {
   "display_name": "Python 3",
   "language": "python",
   "name": "python3"
  },
  "language_info": {
   "codemirror_mode": {
    "name": "ipython",
    "version": 3
   },
   "file_extension": ".py",
   "mimetype": "text/x-python",
   "name": "python",
   "nbconvert_exporter": "python",
   "pygments_lexer": "ipython3",
   "version": "3.8.10"
  }
 },
 "nbformat": 4,
 "nbformat_minor": 2
}
