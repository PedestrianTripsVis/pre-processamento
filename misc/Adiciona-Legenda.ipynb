{
 "cells": [
  {
   "cell_type": "code",
   "execution_count": null,
   "metadata": {},
   "outputs": [],
   "source": [
    "# Importing the PIL library\n",
    "from PIL import Image\n",
    "from PIL import ImageDraw\n",
    "from PIL import ImageFont\n",
    "\n",
    "import pandas as pd"
   ]
  },
  {
   "cell_type": "code",
   "execution_count": null,
   "metadata": {},
   "outputs": [],
   "source": [
    "CAPTURES_DIR = \"../captures/\"\n",
    "\n",
    "df = pd.read_csv(f\"{CAPTURES_DIR}/legend.csv\")\n",
    "df.head()"
   ]
  },
  {
   "cell_type": "code",
   "execution_count": null,
   "metadata": {},
   "outputs": [],
   "source": [
    "font  = ImageFont.truetype(\"../extra/arial.ttf\", 22) \n",
    "\n",
    "for region in df.to_dict(orient='records'):\n",
    "\n",
    "    img = Image.open(f'{CAPTURES_DIR}Density_Modulated_Alpha/{region[\"regiao\"]}.png') \n",
    "    I1 = ImageDraw.Draw(img)\n",
    "    \n",
    "    legend = [\n",
    "        f\"Reduced dataset contains {region['trajetorias_unicas']} trips\",\n",
    "        f\"Expanded dataset contains {region['trajetorias_expandidas']} trips\"\n",
    "    ]\n",
    "\n",
    "    # Add Text to an image\n",
    "    I1.text((10, 10), \"\\n\".join(legend), fill=(0, 0, 0), font=font)\n",
    "    img.save(f'{CAPTURES_DIR}Density_Modulated_Alpha/{region[\"regiao\"]}_legend.png') \n"
   ]
  },
  {
   "cell_type": "code",
   "execution_count": null,
   "metadata": {},
   "outputs": [],
   "source": [
    "for region in df.to_dict(orient='records'):\n",
    "\n",
    "    img = Image.open(f'{CAPTURES_DIR}Reduced_Global_Alpha/{region[\"regiao\"]}.png') \n",
    "    I1 = ImageDraw.Draw(img)\n",
    "    \n",
    "    legend = [\n",
    "        f\"Reduced dataset contains {region['trajetorias_unicas']} trips\",\n",
    "        f\"Expanded dataset contains {region['trajetorias_expandidas']} trips\"\n",
    "    ]\n",
    "\n",
    "    # Add Text to an image\n",
    "    I1.text((10, 10), \"\\n\".join(legend), fill=(0, 0, 0), font=font)\n",
    "    img.save(f'{CAPTURES_DIR}Reduced_Global_Alpha/{region[\"regiao\"]}_legend.png') "
   ]
  }
 ],
 "metadata": {
  "interpreter": {
   "hash": "b15e90b22920f3616b90081869e634aa2ae7d27bceee100f7f21224d85cbc821"
  },
  "kernelspec": {
   "display_name": "Python 3.9.7 ('env': venv)",
   "language": "python",
   "name": "python3"
  },
  "language_info": {
   "codemirror_mode": {
    "name": "ipython",
    "version": 3
   },
   "file_extension": ".py",
   "mimetype": "text/x-python",
   "name": "python",
   "nbconvert_exporter": "python",
   "pygments_lexer": "ipython3",
   "version": "3.9.7"
  },
  "orig_nbformat": 4
 },
 "nbformat": 4,
 "nbformat_minor": 2
}
