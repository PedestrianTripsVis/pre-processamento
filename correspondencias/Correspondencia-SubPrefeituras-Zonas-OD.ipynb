{
 "cells": [
  {
   "cell_type": "code",
   "execution_count": 1,
   "metadata": {},
   "outputs": [],
   "source": [
    "# !pip install pandas\n",
    "import pandas as pd"
   ]
  },
  {
   "cell_type": "markdown",
   "metadata": {},
   "source": [
    "### Fazendo a correspondência entre Subprefeituras e Zonas OD\n",
    "São Paulo apresenta duas divisões territoriais: distritos e subprefeituras. A partir do arquivo de correspondêcias fornecido pela própria OD, conseguimos a correspondência entre distritos e zonas, entretanto, o que queremos é a correspondência entre subprefeituras e as mesmas. "
   ]
  },
  {
   "cell_type": "code",
   "execution_count": 2,
   "metadata": {},
   "outputs": [],
   "source": [
    "sub_dist = pd.read_csv('subprefeitura-distritos-sp.csv')\n",
    "dist_zonas = pd.read_csv('distritos-zonas-od.csv')"
   ]
  },
  {
   "cell_type": "code",
   "execution_count": 3,
   "metadata": {},
   "outputs": [],
   "source": [
    "# Verificando se todos os distritos possuem uma dos dados das subprefeituras batem com os distritos na correspondecia de zonas\n",
    "distritos_sp = list(sub_dist['distrito'])\n",
    "matched_distritos = {dist: False for dist in distritos_sp}\n",
    "\n",
    "for index, row in dist_zonas.iterrows():\n",
    "    dist = row['nome_distrito']\n",
    "\n",
    "    if dist in matched_distritos.keys():       \n",
    "        matched_distritos[dist] = True\n",
    "\n",
    "for dist, matched in matched_distritos.items():\n",
    "    if not matched:\n",
    "        print(\"Distrito não encontrado: \" , dist) "
   ]
  },
  {
   "cell_type": "code",
   "execution_count": 4,
   "metadata": {},
   "outputs": [
    {
     "name": "stdout",
     "output_type": "stream",
     "text": [
      "{'Ipiranga': [236, 237, 238, 239, 240, 241, 242, 243, 244, 245, 246, 247, 248, 249, 250, 251, 252], 'Pinheiros': [68, 69, 70, 71, 72, 73, 74, 75, 76, 77, 78, 79, 80, 81, 82, 83, 95, 96, 97], 'São Miguel': [184, 185, 186, 187, 188, 196, 197, 198, 199, 200], 'São Mateus': [231, 232, 233, 234, 235, 264, 265, 266, 267], 'Ermelino Matarazzo': [179, 180, 181, 182, 183], 'Campo Limpo': [312, 313, 314, 315, 320, 321, 322, 323, 324, 325, 326], 'Capela do Socorro': [286, 287, 288, 289, 290, 291, 292, 293, 294, 295, 296], 'Butantã': [316, 317, 318, 319, 327, 328, 329, 330, 331, 332, 333, 334, 335, 336, 339, 340, 341, 342], 'Lapa': [84, 85, 86, 87, 88, 89, 90, 91, 92, 93, 94, 98, 99, 100, 101, 102, 103, 104, 105, 106, 107, 108, 113, 337, 338], 'Itaquera': [189, 190, 191, 192, 193, 194, 195, 219, 220, 221, 222, 223, 224, 225, 226], 'Vila Prudente': [253, 254, 255, 256, 257, 258], 'Cidade Tiradentes': [229, 230], 'Casa Verde': [136, 137, 138, 139, 140, 141, 142, 143], 'Parelheiros': [297, 298, 299], 'Mooca': [10, 11, 12, 13, 14, 15, 16, 17, 38, 39, 40, 41, 42, 43, 44, 45, 46, 47, 48, 166, 167, 168, 169], 'Cidade Ademar': [277, 278, 279, 284, 285], 'Perus': [117, 118, 119], 'Vila Maria/Vila Guilherme': [158, 159, 160, 161, 162, 163, 164, 165], 'Guaianases': [203, 204, 227, 228], 'Itaim Paulista': [201, 202, 205, 206, 207], 'Santo Amaro': [268, 269, 270, 271, 272, 280, 281, 282, 283, 300, 301, 302, 303], 'Freguesia do Ó': [120, 121, 122, 123, 124, 125, 126, 127], 'Sé': [1, 2, 3, 4, 5, 6, 7, 8, 9, 18, 19, 20, 21, 22, 23, 24, 25, 26, 27, 28, 29, 30, 31, 32, 33, 34, 35, 36, 37], \"M'Boi Mirim\": [304, 305, 306, 307, 308, 309, 310, 311], 'Vila Mariana': [49, 50, 51, 52, 53, 54, 55, 56, 57, 58, 59, 60, 61, 62, 63, 64, 65, 66, 67], 'Jaçanã': [147, 148, 149, 150, 151, 155, 156, 157], 'Penha': [170, 171, 172, 173, 174, 175, 176, 177, 178, 214, 215, 216, 217, 218], 'Sapopemba': [259, 260, 261, 262, 263], 'Aricanduva': [208, 209, 210, 211, 212, 213], 'Santana': [128, 129, 130, 131, 132, 133, 134, 135, 144, 145, 146, 152, 153, 154], 'Jabaquara': [273, 274, 275, 276], 'Pirituba': [109, 110, 111, 112, 114, 115, 116]}\n"
     ]
    }
   ],
   "source": [
    "# Pegando as correspondencias entre subprefeituras de são paulo e zonas OD \n",
    "subprefeituras_sp = set(sub_dist['subprefeitura'])\n",
    "sub_zonas = {sub: [] for sub in subprefeituras_sp}\n",
    "\n",
    "for index, row in dist_zonas.iterrows():\n",
    "    dist_nome, dist_zona = row['nome_distrito'], row['n_zona']\n",
    "\n",
    "    if dist_nome not in matched_distritos.keys():       \n",
    "        continue\n",
    "\n",
    "    matched_dist = sub_dist.loc[sub_dist['distrito'] == dist_nome]\n",
    "    subprefeitura = matched_dist['subprefeitura'].values[0]\n",
    "    sub_zonas[subprefeitura].append(dist_zona)\n",
    "\n",
    "print(sub_zonas)"
   ]
  }
 ],
 "metadata": {
  "interpreter": {
   "hash": "b0a8393702f5e65899ed332e85fe160d187707a4bda9c01d30267af1c8f821eb"
  },
  "kernelspec": {
   "display_name": "Python 3.9.7 ('env': venv)",
   "language": "python",
   "name": "python3"
  },
  "language_info": {
   "codemirror_mode": {
    "name": "ipython",
    "version": 3
   },
   "file_extension": ".py",
   "mimetype": "text/x-python",
   "name": "python",
   "nbconvert_exporter": "python",
   "pygments_lexer": "ipython3",
   "version": "3.9.7"
  },
  "orig_nbformat": 4
 },
 "nbformat": 4,
 "nbformat_minor": 2
}
